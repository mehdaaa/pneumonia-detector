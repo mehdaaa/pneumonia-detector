{
  "cells": [
    {
      "cell_type": "markdown",
      "metadata": {
        "id": "b2br1muxa2vI"
      },
      "source": [
        "**1\\. Chargement des datasets**\n",
        "-------------------------------------\n",
        "### a. Importation des librairies nécessaires\n",
        "\n",
        "*   TensorFlow (réseaux de neurones), Keras (modules modèles et couches), Google\n",
        "*   Drive (accès aux fichiers),\n",
        "\n",
        "*   OS (gestion de chemins de fichiers), matplotlib et numpy (visualisation et traitement de données),\n",
        "*   sklearn (calcul des poids de classe et métriques ROC)\n",
        "\n",
        "\n",
        "### b. Chargement du dataset d'entraînement à partir des images du dossier 'train'\n",
        "\n",
        "*   20% des données sont utilisées pour la validation (grâce à validation_split)\n",
        "*   Le reste pour l'entraînement (subset=\"training\")\n",
        "*   Images redimensionnées en 256x256\n",
        "*   Les données sont mélangées (shuffle=True)\n",
        "\n",
        "### c. Chargement du dataset de validation à partir du même dossier 'train'\n",
        "\n",
        "*   Cette fois subset=\"validation\" pour obtenir les 20% séparés\n",
        "*   Permet de valider le modèle sur des images différentes de l'entraînement\n",
        "\n",
        "### d. Optimisation du pipeline de données avec AUTOTUNE\n",
        "\n",
        "*   Cache : garde les données en mémoire après la première lecture pour accélérer\n",
        "*   Shuffle : mélange les données pour l'entraînement (important pour la généralisation)\n",
        "*   Prefetch : prépare les batchs suivants pendant que le modèle s'entraîne"
      ]
    },
    {
      "cell_type": "code",
      "execution_count": null,
      "metadata": {
        "colab": {
          "base_uri": "https://localhost:8080/"
        },
        "id": "DB85RLpKLJA5",
        "outputId": "bb79b4a4-5bb7-48a0-fe24-89ee2ce4d3ac"
      },
      "outputs": [
        {
          "output_type": "stream",
          "name": "stdout",
          "text": [
            "Drive already mounted at /content/drive; to attempt to forcibly remount, call drive.mount(\"/content/drive\", force_remount=True).\n",
            "Found 5226 files belonging to 2 classes.\n",
            "Using 4181 files for training.\n",
            "Found 5226 files belonging to 2 classes.\n",
            "Using 1045 files for validation.\n",
            "Found 624 files belonging to 2 classes.\n",
            "Classes: ['NORMAL', 'PNEUMONIA']\n"
          ]
        }
      ],
      "source": [
        "import tensorflow as tf\n",
        "from tensorflow.keras import layers, models\n",
        "from tensorflow.keras.callbacks import EarlyStopping, ModelCheckpoint\n",
        "from tensorflow.keras.utils import split_dataset\n",
        "from google.colab import drive\n",
        "import os\n",
        "import matplotlib.pyplot as plt\n",
        "import numpy as np\n",
        "from sklearn.utils import class_weight\n",
        "from sklearn.metrics import roc_curve, auc\n",
        "\n",
        "# Montage de Google Drive pour accéder aux fichiers stockés sur Drive\n",
        "drive.mount('/content/drive')\n",
        "\n",
        "# Définition du chemin pour sauvegarder les résultats et les modèles entraînés\n",
        "save_dir = \"/content/drive/My Drive/Zoidberg\"\n",
        "\n",
        "# Définition des chemins vers les datasets d'entraînement, validation et test\n",
        "base_dir = \"/content/drive/My Drive/Zoidberg/chest_Xray\"\n",
        "train_dir = os.path.join(base_dir, \"train\")\n",
        "val_dir = os.path.join(base_dir, \"val\") # Pas utilisé ici\n",
        "test_dir = os.path.join(base_dir, \"test\")\n",
        "\n",
        "# Chargement du dataset d'entraînement à partir des images du dossier 'train'\n",
        "train_data = tf.keras.preprocessing.image_dataset_from_directory(\n",
        "    train_dir,\n",
        "    validation_split=0.2,\n",
        "    subset=\"training\",\n",
        "    seed=42,\n",
        "    image_size=(256, 256),\n",
        "    batch_size=32,\n",
        "    shuffle=True\n",
        ")\n",
        "\n",
        "# Chargement du dataset de validation à partir du même dossier 'train'\n",
        "val_data = tf.keras.preprocessing.image_dataset_from_directory(\n",
        "    train_dir,\n",
        "    validation_split=0.2,\n",
        "    subset=\"validation\",\n",
        "    seed=42,\n",
        "    image_size=(256, 256),\n",
        "    batch_size=32,\n",
        "    shuffle=True\n",
        ")\n",
        "\n",
        "# Chargement du dataset de test\n",
        "test_data = tf.keras.preprocessing.image_dataset_from_directory(\n",
        "    test_dir,\n",
        "    image_size=(256, 256),\n",
        "    batch_size=32,\n",
        "    shuffle=False\n",
        ")\n",
        "\n",
        "# Vérification des classes détectées automatiquement dans les dossiers\n",
        "# Permet de confirmer que les classes (catégories d'images) sont bien identifiées\n",
        "class_names = train_data.class_names\n",
        "print(\"Classes:\", class_names)\n",
        "\n",
        "# Optimisation du pipeline de données avec AUTOTUNE\n",
        "AUTOTUNE = tf.data.AUTOTUNE\n",
        "\n",
        "train_data = train_data.cache().shuffle(1000).prefetch(buffer_size=AUTOTUNE)\n",
        "val_data = val_data.cache().prefetch(buffer_size=AUTOTUNE)\n",
        "test_data = test_data.cache().prefetch(buffer_size=AUTOTUNE)"
      ]
    },
    {
      "cell_type": "markdown",
      "metadata": {
        "id": "WV-wLKgabXnD"
      },
      "source": [
        "**2\\. Comptage des Images par Classe**\n",
        "-------------------------------------\n"
      ]
    },
    {
      "cell_type": "code",
      "execution_count": null,
      "metadata": {
        "colab": {
          "base_uri": "https://localhost:8080/"
        },
        "id": "Dgpc8eou7-60",
        "outputId": "b864dc24-8166-4aae-f512-bbf6d95e9007"
      },
      "outputs": [
        {
          "output_type": "stream",
          "name": "stdout",
          "text": [
            "\n",
            "TRAIN directory:\n",
            "  NORMAL: 1352 images\n",
            "  PNEUMONIA: 3876 images\n",
            "\n",
            "VAL directory:\n",
            "  NORMAL: 9 images\n",
            "  PNEUMONIA: 9 images\n",
            "\n",
            "TEST directory:\n",
            "  NORMAL: 234 images\n",
            "  PNEUMONIA: 390 images\n"
          ]
        }
      ],
      "source": [
        "def count_images_in_dirs(base_path):\n",
        "    print(\"\\nTRAIN directory:\")\n",
        "    print(f\"  NORMAL: {len(os.listdir(os.path.join(base_path, 'train', 'NORMAL')))} images\")\n",
        "    print(f\"  PNEUMONIA: {len(os.listdir(os.path.join(base_path, 'train', 'PNEUMONIA')))} images\")\n",
        "\n",
        "    print(\"\\nVAL directory:\")\n",
        "    print(f\"  NORMAL: {len(os.listdir(os.path.join(base_path, 'val', 'NORMAL')))} images\")\n",
        "    print(f\"  PNEUMONIA: {len(os.listdir(os.path.join(base_path, 'val', 'PNEUMONIA')))} images\")\n",
        "\n",
        "    print(\"\\nTEST directory:\")\n",
        "    print(f\"  NORMAL: {len(os.listdir(os.path.join(base_path, 'test', 'NORMAL')))} images\")\n",
        "    print(f\"  PNEUMONIA: {len(os.listdir(os.path.join(base_path, 'test', 'PNEUMONIA')))} images\")\n",
        "\n",
        "# Appel de la fonction\n",
        "count_images_in_dirs(base_dir)"
      ]
    },
    {
      "cell_type": "markdown",
      "metadata": {
        "id": "kYDdzdcZbjT7"
      },
      "source": [
        "**3\\. Visualisation des Images**\n",
        "-------------------------------------\n",
        "\n",
        "Visualisation d'un échantillons d'images provenant du dataset d'entraînement"
      ]
    },
    {
      "cell_type": "code",
      "execution_count": null,
      "metadata": {
        "collapsed": true,
        "id": "aRvRUhPvdN-p"
      },
      "outputs": [],
      "source": [
        "# Visualisation des images\n",
        "plt.figure(figsize=(10, 10))\n",
        "for images, labels in train_data.take(1):\n",
        "    for i in range(9):\n",
        "        ax = plt.subplot(3, 3, i + 1)\n",
        "        plt.imshow(images[i].numpy().astype(\"uint8\"))\n",
        "        plt.title(class_names[labels[i]])\n",
        "        plt.axis(\"off\")\n",
        "plt.show()"
      ]
    },
    {
      "cell_type": "markdown",
      "metadata": {
        "id": "AorI0q9Xb0aP"
      },
      "source": [
        "**4\\. Calcul des poids de classe**\n",
        "-------------------------------------\n",
        "### Calcul des poids de classe pour corriger un déséquilibre dans le dataset d'entraînement\n",
        " - La classe 0 (la classe minoritaire) a moins d'exemples que la classe 1\n",
        " - On attribue un poids plus élevé à la classe 0 pour que le modèle ne favorise pas seulement la classe majoritaire\n",
        " - Le poids est calculé ici comme : (nombre d'images de la classe 1) / (nombre d'images de la classe 0)\n",
        "\n",
        "**Objectif : compenser le déséquilibre entre classes et éviter que le modèle apprenne à \"tricher\" en prédisant toujours la classe majoritaire.**"
      ]
    },
    {
      "cell_type": "code",
      "execution_count": null,
      "metadata": {
        "colab": {
          "base_uri": "https://localhost:8080/"
        },
        "id": "h91jp0yR8ZoR",
        "outputId": "152c008c-741d-41ab-a1d5-c20b26f610d1"
      },
      "outputs": [
        {
          "output_type": "stream",
          "name": "stdout",
          "text": [
            "Class weights: {0: 2.866863905325444, 1: 1.0}\n"
          ]
        }
      ],
      "source": [
        "# Calcul des poids de classe\n",
        "weight_for_0 = (3876 / 1352)\n",
        "weight_for_1 = 1.0\n",
        "\n",
        "class_weight = {0: weight_for_0, 1: weight_for_1}\n",
        "print(\"Class weights:\", class_weight)"
      ]
    },
    {
      "cell_type": "markdown",
      "metadata": {
        "id": "EqR7vK1dbr3N"
      },
      "source": [
        "**5\\. Création du modèle CNN**\n",
        "-------------------------------------\n",
        "\n",
        "### a. Définition d'un pipeline d'augmentation de données\n",
        "- RandomFlip : retourne les images horizontalement\n",
        "- RandomRotation : fait pivoter légèrement les images\n",
        "- RandomZoom : effectue un zoom aléatoire\n",
        "- RandomContrast : modifie légèrement le contraste\n",
        "\n",
        "**Objectif : rendre le modèle plus robuste aux variations naturelles dans les données**\n",
        "\n",
        "### b. Fonction pour créer le modèle CNN\n",
        "- Convolution : extraire les caractéristiques importantes des images (textures, formes, etc.)\n",
        "- MaxPooling : réduire la dimension spatiale tout en conservant les informations essentielles\n",
        "- Batch Normalization : stabiliser et accélérer l'entraînement\n",
        "- Dropout : prévenir le surapprentissage en désactivant aléatoirement des neurones\n",
        "- Dense Layer : prise de décision finale après extraction des caractéristiques\n",
        "- Sigmoid : utilisée pour une classification binaire (ex : malade vs sain)"
      ]
    },
    {
      "cell_type": "code",
      "execution_count": null,
      "metadata": {
        "colab": {
          "base_uri": "https://localhost:8080/",
          "height": 1000
        },
        "collapsed": true,
        "id": "RbaFR8xIfM7M",
        "outputId": "e656ac22-3827-4079-e9b6-c6b988b060eb"
      },
      "outputs": [
        {
          "output_type": "stream",
          "name": "stderr",
          "text": [
            "/usr/local/lib/python3.11/dist-packages/keras/src/layers/preprocessing/tf_data_layer.py:19: UserWarning: Do not pass an `input_shape`/`input_dim` argument to a layer. When using Sequential models, prefer using an `Input(shape)` object as the first layer in the model instead.\n",
            "  super().__init__(**kwargs)\n"
          ]
        },
        {
          "output_type": "display_data",
          "data": {
            "text/plain": [
              "\u001b[1mModel: \"sequential_1\"\u001b[0m\n"
            ],
            "text/html": [
              "<pre style=\"white-space:pre;overflow-x:auto;line-height:normal;font-family:Menlo,'DejaVu Sans Mono',consolas,'Courier New',monospace\"><span style=\"font-weight: bold\">Model: \"sequential_1\"</span>\n",
              "</pre>\n"
            ]
          },
          "metadata": {}
        },
        {
          "output_type": "display_data",
          "data": {
            "text/plain": [
              "┏━━━━━━━━━━━━━━━━━━━━━━━━━━━━━━━━━┳━━━━━━━━━━━━━━━━━━━━━━━━┳━━━━━━━━━━━━━━━┓\n",
              "┃\u001b[1m \u001b[0m\u001b[1mLayer (type)                   \u001b[0m\u001b[1m \u001b[0m┃\u001b[1m \u001b[0m\u001b[1mOutput Shape          \u001b[0m\u001b[1m \u001b[0m┃\u001b[1m \u001b[0m\u001b[1m      Param #\u001b[0m\u001b[1m \u001b[0m┃\n",
              "┡━━━━━━━━━━━━━━━━━━━━━━━━━━━━━━━━━╇━━━━━━━━━━━━━━━━━━━━━━━━╇━━━━━━━━━━━━━━━┩\n",
              "│ sequential (\u001b[38;5;33mSequential\u001b[0m)         │ ?                      │   \u001b[38;5;34m0\u001b[0m (unbuilt) │\n",
              "├─────────────────────────────────┼────────────────────────┼───────────────┤\n",
              "│ normalization (\u001b[38;5;33mRescaling\u001b[0m)       │ ?                      │   \u001b[38;5;34m0\u001b[0m (unbuilt) │\n",
              "├─────────────────────────────────┼────────────────────────┼───────────────┤\n",
              "│ conv2d (\u001b[38;5;33mConv2D\u001b[0m)                 │ ?                      │   \u001b[38;5;34m0\u001b[0m (unbuilt) │\n",
              "├─────────────────────────────────┼────────────────────────┼───────────────┤\n",
              "│ batch_normalization             │ ?                      │   \u001b[38;5;34m0\u001b[0m (unbuilt) │\n",
              "│ (\u001b[38;5;33mBatchNormalization\u001b[0m)            │                        │               │\n",
              "├─────────────────────────────────┼────────────────────────┼───────────────┤\n",
              "│ activation (\u001b[38;5;33mActivation\u001b[0m)         │ ?                      │             \u001b[38;5;34m0\u001b[0m │\n",
              "├─────────────────────────────────┼────────────────────────┼───────────────┤\n",
              "│ max_pooling2d (\u001b[38;5;33mMaxPooling2D\u001b[0m)    │ ?                      │             \u001b[38;5;34m0\u001b[0m │\n",
              "├─────────────────────────────────┼────────────────────────┼───────────────┤\n",
              "│ dropout (\u001b[38;5;33mDropout\u001b[0m)               │ ?                      │             \u001b[38;5;34m0\u001b[0m │\n",
              "├─────────────────────────────────┼────────────────────────┼───────────────┤\n",
              "│ conv2d_1 (\u001b[38;5;33mConv2D\u001b[0m)               │ ?                      │   \u001b[38;5;34m0\u001b[0m (unbuilt) │\n",
              "├─────────────────────────────────┼────────────────────────┼───────────────┤\n",
              "│ batch_normalization_1           │ ?                      │   \u001b[38;5;34m0\u001b[0m (unbuilt) │\n",
              "│ (\u001b[38;5;33mBatchNormalization\u001b[0m)            │                        │               │\n",
              "├─────────────────────────────────┼────────────────────────┼───────────────┤\n",
              "│ activation_1 (\u001b[38;5;33mActivation\u001b[0m)       │ ?                      │             \u001b[38;5;34m0\u001b[0m │\n",
              "├─────────────────────────────────┼────────────────────────┼───────────────┤\n",
              "│ max_pooling2d_1 (\u001b[38;5;33mMaxPooling2D\u001b[0m)  │ ?                      │             \u001b[38;5;34m0\u001b[0m │\n",
              "├─────────────────────────────────┼────────────────────────┼───────────────┤\n",
              "│ dropout_1 (\u001b[38;5;33mDropout\u001b[0m)             │ ?                      │             \u001b[38;5;34m0\u001b[0m │\n",
              "├─────────────────────────────────┼────────────────────────┼───────────────┤\n",
              "│ conv2d_2 (\u001b[38;5;33mConv2D\u001b[0m)               │ ?                      │   \u001b[38;5;34m0\u001b[0m (unbuilt) │\n",
              "├─────────────────────────────────┼────────────────────────┼───────────────┤\n",
              "│ batch_normalization_2           │ ?                      │   \u001b[38;5;34m0\u001b[0m (unbuilt) │\n",
              "│ (\u001b[38;5;33mBatchNormalization\u001b[0m)            │                        │               │\n",
              "├─────────────────────────────────┼────────────────────────┼───────────────┤\n",
              "│ activation_2 (\u001b[38;5;33mActivation\u001b[0m)       │ ?                      │             \u001b[38;5;34m0\u001b[0m │\n",
              "├─────────────────────────────────┼────────────────────────┼───────────────┤\n",
              "│ max_pooling2d_2 (\u001b[38;5;33mMaxPooling2D\u001b[0m)  │ ?                      │             \u001b[38;5;34m0\u001b[0m │\n",
              "├─────────────────────────────────┼────────────────────────┼───────────────┤\n",
              "│ dropout_2 (\u001b[38;5;33mDropout\u001b[0m)             │ ?                      │             \u001b[38;5;34m0\u001b[0m │\n",
              "├─────────────────────────────────┼────────────────────────┼───────────────┤\n",
              "│ conv2d_3 (\u001b[38;5;33mConv2D\u001b[0m)               │ ?                      │   \u001b[38;5;34m0\u001b[0m (unbuilt) │\n",
              "├─────────────────────────────────┼────────────────────────┼───────────────┤\n",
              "│ batch_normalization_3           │ ?                      │   \u001b[38;5;34m0\u001b[0m (unbuilt) │\n",
              "│ (\u001b[38;5;33mBatchNormalization\u001b[0m)            │                        │               │\n",
              "├─────────────────────────────────┼────────────────────────┼───────────────┤\n",
              "│ activation_3 (\u001b[38;5;33mActivation\u001b[0m)       │ ?                      │             \u001b[38;5;34m0\u001b[0m │\n",
              "├─────────────────────────────────┼────────────────────────┼───────────────┤\n",
              "│ max_pooling2d_3 (\u001b[38;5;33mMaxPooling2D\u001b[0m)  │ ?                      │             \u001b[38;5;34m0\u001b[0m │\n",
              "├─────────────────────────────────┼────────────────────────┼───────────────┤\n",
              "│ dropout_3 (\u001b[38;5;33mDropout\u001b[0m)             │ ?                      │             \u001b[38;5;34m0\u001b[0m │\n",
              "├─────────────────────────────────┼────────────────────────┼───────────────┤\n",
              "│ flatten (\u001b[38;5;33mFlatten\u001b[0m)               │ ?                      │   \u001b[38;5;34m0\u001b[0m (unbuilt) │\n",
              "├─────────────────────────────────┼────────────────────────┼───────────────┤\n",
              "│ dense (\u001b[38;5;33mDense\u001b[0m)                   │ ?                      │   \u001b[38;5;34m0\u001b[0m (unbuilt) │\n",
              "├─────────────────────────────────┼────────────────────────┼───────────────┤\n",
              "│ dropout_4 (\u001b[38;5;33mDropout\u001b[0m)             │ ?                      │             \u001b[38;5;34m0\u001b[0m │\n",
              "├─────────────────────────────────┼────────────────────────┼───────────────┤\n",
              "│ dense_1 (\u001b[38;5;33mDense\u001b[0m)                 │ ?                      │   \u001b[38;5;34m0\u001b[0m (unbuilt) │\n",
              "└─────────────────────────────────┴────────────────────────┴───────────────┘\n"
            ],
            "text/html": [
              "<pre style=\"white-space:pre;overflow-x:auto;line-height:normal;font-family:Menlo,'DejaVu Sans Mono',consolas,'Courier New',monospace\">┏━━━━━━━━━━━━━━━━━━━━━━━━━━━━━━━━━┳━━━━━━━━━━━━━━━━━━━━━━━━┳━━━━━━━━━━━━━━━┓\n",
              "┃<span style=\"font-weight: bold\"> Layer (type)                    </span>┃<span style=\"font-weight: bold\"> Output Shape           </span>┃<span style=\"font-weight: bold\">       Param # </span>┃\n",
              "┡━━━━━━━━━━━━━━━━━━━━━━━━━━━━━━━━━╇━━━━━━━━━━━━━━━━━━━━━━━━╇━━━━━━━━━━━━━━━┩\n",
              "│ sequential (<span style=\"color: #0087ff; text-decoration-color: #0087ff\">Sequential</span>)         │ ?                      │   <span style=\"color: #00af00; text-decoration-color: #00af00\">0</span> (unbuilt) │\n",
              "├─────────────────────────────────┼────────────────────────┼───────────────┤\n",
              "│ normalization (<span style=\"color: #0087ff; text-decoration-color: #0087ff\">Rescaling</span>)       │ ?                      │   <span style=\"color: #00af00; text-decoration-color: #00af00\">0</span> (unbuilt) │\n",
              "├─────────────────────────────────┼────────────────────────┼───────────────┤\n",
              "│ conv2d (<span style=\"color: #0087ff; text-decoration-color: #0087ff\">Conv2D</span>)                 │ ?                      │   <span style=\"color: #00af00; text-decoration-color: #00af00\">0</span> (unbuilt) │\n",
              "├─────────────────────────────────┼────────────────────────┼───────────────┤\n",
              "│ batch_normalization             │ ?                      │   <span style=\"color: #00af00; text-decoration-color: #00af00\">0</span> (unbuilt) │\n",
              "│ (<span style=\"color: #0087ff; text-decoration-color: #0087ff\">BatchNormalization</span>)            │                        │               │\n",
              "├─────────────────────────────────┼────────────────────────┼───────────────┤\n",
              "│ activation (<span style=\"color: #0087ff; text-decoration-color: #0087ff\">Activation</span>)         │ ?                      │             <span style=\"color: #00af00; text-decoration-color: #00af00\">0</span> │\n",
              "├─────────────────────────────────┼────────────────────────┼───────────────┤\n",
              "│ max_pooling2d (<span style=\"color: #0087ff; text-decoration-color: #0087ff\">MaxPooling2D</span>)    │ ?                      │             <span style=\"color: #00af00; text-decoration-color: #00af00\">0</span> │\n",
              "├─────────────────────────────────┼────────────────────────┼───────────────┤\n",
              "│ dropout (<span style=\"color: #0087ff; text-decoration-color: #0087ff\">Dropout</span>)               │ ?                      │             <span style=\"color: #00af00; text-decoration-color: #00af00\">0</span> │\n",
              "├─────────────────────────────────┼────────────────────────┼───────────────┤\n",
              "│ conv2d_1 (<span style=\"color: #0087ff; text-decoration-color: #0087ff\">Conv2D</span>)               │ ?                      │   <span style=\"color: #00af00; text-decoration-color: #00af00\">0</span> (unbuilt) │\n",
              "├─────────────────────────────────┼────────────────────────┼───────────────┤\n",
              "│ batch_normalization_1           │ ?                      │   <span style=\"color: #00af00; text-decoration-color: #00af00\">0</span> (unbuilt) │\n",
              "│ (<span style=\"color: #0087ff; text-decoration-color: #0087ff\">BatchNormalization</span>)            │                        │               │\n",
              "├─────────────────────────────────┼────────────────────────┼───────────────┤\n",
              "│ activation_1 (<span style=\"color: #0087ff; text-decoration-color: #0087ff\">Activation</span>)       │ ?                      │             <span style=\"color: #00af00; text-decoration-color: #00af00\">0</span> │\n",
              "├─────────────────────────────────┼────────────────────────┼───────────────┤\n",
              "│ max_pooling2d_1 (<span style=\"color: #0087ff; text-decoration-color: #0087ff\">MaxPooling2D</span>)  │ ?                      │             <span style=\"color: #00af00; text-decoration-color: #00af00\">0</span> │\n",
              "├─────────────────────────────────┼────────────────────────┼───────────────┤\n",
              "│ dropout_1 (<span style=\"color: #0087ff; text-decoration-color: #0087ff\">Dropout</span>)             │ ?                      │             <span style=\"color: #00af00; text-decoration-color: #00af00\">0</span> │\n",
              "├─────────────────────────────────┼────────────────────────┼───────────────┤\n",
              "│ conv2d_2 (<span style=\"color: #0087ff; text-decoration-color: #0087ff\">Conv2D</span>)               │ ?                      │   <span style=\"color: #00af00; text-decoration-color: #00af00\">0</span> (unbuilt) │\n",
              "├─────────────────────────────────┼────────────────────────┼───────────────┤\n",
              "│ batch_normalization_2           │ ?                      │   <span style=\"color: #00af00; text-decoration-color: #00af00\">0</span> (unbuilt) │\n",
              "│ (<span style=\"color: #0087ff; text-decoration-color: #0087ff\">BatchNormalization</span>)            │                        │               │\n",
              "├─────────────────────────────────┼────────────────────────┼───────────────┤\n",
              "│ activation_2 (<span style=\"color: #0087ff; text-decoration-color: #0087ff\">Activation</span>)       │ ?                      │             <span style=\"color: #00af00; text-decoration-color: #00af00\">0</span> │\n",
              "├─────────────────────────────────┼────────────────────────┼───────────────┤\n",
              "│ max_pooling2d_2 (<span style=\"color: #0087ff; text-decoration-color: #0087ff\">MaxPooling2D</span>)  │ ?                      │             <span style=\"color: #00af00; text-decoration-color: #00af00\">0</span> │\n",
              "├─────────────────────────────────┼────────────────────────┼───────────────┤\n",
              "│ dropout_2 (<span style=\"color: #0087ff; text-decoration-color: #0087ff\">Dropout</span>)             │ ?                      │             <span style=\"color: #00af00; text-decoration-color: #00af00\">0</span> │\n",
              "├─────────────────────────────────┼────────────────────────┼───────────────┤\n",
              "│ conv2d_3 (<span style=\"color: #0087ff; text-decoration-color: #0087ff\">Conv2D</span>)               │ ?                      │   <span style=\"color: #00af00; text-decoration-color: #00af00\">0</span> (unbuilt) │\n",
              "├─────────────────────────────────┼────────────────────────┼───────────────┤\n",
              "│ batch_normalization_3           │ ?                      │   <span style=\"color: #00af00; text-decoration-color: #00af00\">0</span> (unbuilt) │\n",
              "│ (<span style=\"color: #0087ff; text-decoration-color: #0087ff\">BatchNormalization</span>)            │                        │               │\n",
              "├─────────────────────────────────┼────────────────────────┼───────────────┤\n",
              "│ activation_3 (<span style=\"color: #0087ff; text-decoration-color: #0087ff\">Activation</span>)       │ ?                      │             <span style=\"color: #00af00; text-decoration-color: #00af00\">0</span> │\n",
              "├─────────────────────────────────┼────────────────────────┼───────────────┤\n",
              "│ max_pooling2d_3 (<span style=\"color: #0087ff; text-decoration-color: #0087ff\">MaxPooling2D</span>)  │ ?                      │             <span style=\"color: #00af00; text-decoration-color: #00af00\">0</span> │\n",
              "├─────────────────────────────────┼────────────────────────┼───────────────┤\n",
              "│ dropout_3 (<span style=\"color: #0087ff; text-decoration-color: #0087ff\">Dropout</span>)             │ ?                      │             <span style=\"color: #00af00; text-decoration-color: #00af00\">0</span> │\n",
              "├─────────────────────────────────┼────────────────────────┼───────────────┤\n",
              "│ flatten (<span style=\"color: #0087ff; text-decoration-color: #0087ff\">Flatten</span>)               │ ?                      │   <span style=\"color: #00af00; text-decoration-color: #00af00\">0</span> (unbuilt) │\n",
              "├─────────────────────────────────┼────────────────────────┼───────────────┤\n",
              "│ dense (<span style=\"color: #0087ff; text-decoration-color: #0087ff\">Dense</span>)                   │ ?                      │   <span style=\"color: #00af00; text-decoration-color: #00af00\">0</span> (unbuilt) │\n",
              "├─────────────────────────────────┼────────────────────────┼───────────────┤\n",
              "│ dropout_4 (<span style=\"color: #0087ff; text-decoration-color: #0087ff\">Dropout</span>)             │ ?                      │             <span style=\"color: #00af00; text-decoration-color: #00af00\">0</span> │\n",
              "├─────────────────────────────────┼────────────────────────┼───────────────┤\n",
              "│ dense_1 (<span style=\"color: #0087ff; text-decoration-color: #0087ff\">Dense</span>)                 │ ?                      │   <span style=\"color: #00af00; text-decoration-color: #00af00\">0</span> (unbuilt) │\n",
              "└─────────────────────────────────┴────────────────────────┴───────────────┘\n",
              "</pre>\n"
            ]
          },
          "metadata": {}
        },
        {
          "output_type": "display_data",
          "data": {
            "text/plain": [
              "\u001b[1m Total params: \u001b[0m\u001b[38;5;34m0\u001b[0m (0.00 B)\n"
            ],
            "text/html": [
              "<pre style=\"white-space:pre;overflow-x:auto;line-height:normal;font-family:Menlo,'DejaVu Sans Mono',consolas,'Courier New',monospace\"><span style=\"font-weight: bold\"> Total params: </span><span style=\"color: #00af00; text-decoration-color: #00af00\">0</span> (0.00 B)\n",
              "</pre>\n"
            ]
          },
          "metadata": {}
        },
        {
          "output_type": "display_data",
          "data": {
            "text/plain": [
              "\u001b[1m Trainable params: \u001b[0m\u001b[38;5;34m0\u001b[0m (0.00 B)\n"
            ],
            "text/html": [
              "<pre style=\"white-space:pre;overflow-x:auto;line-height:normal;font-family:Menlo,'DejaVu Sans Mono',consolas,'Courier New',monospace\"><span style=\"font-weight: bold\"> Trainable params: </span><span style=\"color: #00af00; text-decoration-color: #00af00\">0</span> (0.00 B)\n",
              "</pre>\n"
            ]
          },
          "metadata": {}
        },
        {
          "output_type": "display_data",
          "data": {
            "text/plain": [
              "\u001b[1m Non-trainable params: \u001b[0m\u001b[38;5;34m0\u001b[0m (0.00 B)\n"
            ],
            "text/html": [
              "<pre style=\"white-space:pre;overflow-x:auto;line-height:normal;font-family:Menlo,'DejaVu Sans Mono',consolas,'Courier New',monospace\"><span style=\"font-weight: bold\"> Non-trainable params: </span><span style=\"color: #00af00; text-decoration-color: #00af00\">0</span> (0.00 B)\n",
              "</pre>\n"
            ]
          },
          "metadata": {}
        }
      ],
      "source": [
        "# Création du modèle\n",
        "\n",
        "# Définition d'un pipeline d'augmentation de données\n",
        "data_augmentation = tf.keras.Sequential([\n",
        "    layers.RandomFlip(\"horizontal\"),\n",
        "    layers.RandomRotation(0.15),\n",
        "    layers.RandomZoom(0.2),\n",
        "    layers.RandomContrast(0.1),\n",
        "])\n",
        "\n",
        "# Fonction pour créer le modèle CNN\n",
        "def create_model():\n",
        "    model = models.Sequential([\n",
        "\n",
        "        # Ajout de l'augmentation de données directement dans le modèle\n",
        "        data_augmentation,\n",
        "\n",
        "        # Normalisation des pixels d'images (de [0,255] à [0,1])\n",
        "        layers.Rescaling(1./255, name=\"normalization\", input_shape=(256, 256, 3)),\n",
        "\n",
        "        # 1ère couche de convolution\n",
        "        layers.Conv2D(32, (3, 3), padding='same'),\n",
        "        layers.BatchNormalization(),\n",
        "        layers.Activation('relu'),\n",
        "        layers.MaxPooling2D((2, 2)), # Réduction de la taille de l'image\n",
        "        layers.Dropout(0.2), # Réduction du surapprentissage\n",
        "\n",
        "        # 2ème couche de convolution\n",
        "        layers.Conv2D(64, (3, 3), padding='same'),\n",
        "        layers.BatchNormalization(),\n",
        "        layers.Activation('relu'),\n",
        "        layers.MaxPooling2D((2, 2)),\n",
        "        layers.Dropout(0.3),\n",
        "\n",
        "        # 3ème couche de convolution\n",
        "        layers.Conv2D(128, (3, 3), padding='same'),\n",
        "        layers.BatchNormalization(),\n",
        "        layers.Activation('relu'),\n",
        "        layers.MaxPooling2D((2, 2)),\n",
        "        layers.Dropout(0.4),\n",
        "\n",
        "        # 4ème couche de convolution\n",
        "        layers.Conv2D(256, (3, 3), padding='same'),\n",
        "        layers.BatchNormalization(),\n",
        "        layers.Activation('relu'),\n",
        "        layers.MaxPooling2D((2, 2)),\n",
        "        layers.Dropout(0.5),\n",
        "\n",
        "        # Passage aux couches denses\n",
        "        layers.Flatten(), # Aplatit les matrices 2D en 1D\n",
        "        layers.Dense(256, activation='relu'), # Couche dense avec 256 neurones\n",
        "        layers.Dropout(0.4), # Dropout pour éviter l'overfitting\n",
        "        layers.Dense(1, activation='sigmoid') # Couche de sortie : 1 valeur entre 0 et 1 (classification binaire)\n",
        "    ])\n",
        "\n",
        "    # Compilation du modèle\n",
        "    model.compile(\n",
        "    optimizer='adam',\n",
        "    loss='binary_crossentropy',\n",
        "    metrics=['accuracy', tf.keras.metrics.AUC(name='auc')]\n",
        "    )\n",
        "\n",
        "    return model\n",
        "\n",
        "# Création d'une instance du modèle et affichage du résumé de l'architecture\n",
        "model = create_model()\n",
        "model.summary()\n"
      ]
    },
    {
      "cell_type": "markdown",
      "metadata": {
        "id": "edeaRf67b6t9"
      },
      "source": [
        "**6\\. Mise en Place des Callbacks**\n",
        "-------------------------------------\n",
        "### a. Définition de la stratégie d'arrêt anticipé (Early Stopping)\n",
        "- Surveille la perte sur le jeu de validation ('val_loss')\n",
        "- Si la perte ne s'améliore pas pendant 3 epochs consécutives, l'entraînement est arrêté\n",
        "- restore_best_weights=True : après l'arrêt, on recharge automatiquement les meilleurs poids (ceux avec la plus faible val_loss)\n",
        "\n",
        "**Objectif : arrêter automatiquement l'entraînement pour éviter d'aller trop loin et risquer du surapprentissage si la performance se stabilise**\n",
        "\n",
        "### b. Définition d'un checkpoint pour sauvegarder le meilleur modèle pendant l'entraînement\n",
        "- Sauvegarde automatique du modèle dans le fichier 'best_model.h5'\n",
        "- Sauvegarde uniquement si la métrique 'val_auc' s'améliore\n",
        "- mode='max' signifie que l'on cherche à maximiser l'AUC (Area Under Curve)\n",
        "\n",
        "**Objectif : sauvegarder automatiquement le meilleur modèle trouvé pendant l'entraînement basé sur la meilleure AUC**"
      ]
    },
    {
      "cell_type": "code",
      "execution_count": null,
      "metadata": {
        "id": "mQgkpp_CU4ga"
      },
      "outputs": [],
      "source": [
        "# Définition de la stratégie d'arrêt anticipé (Early Stopping)\n",
        "early_stopping = [\n",
        "    EarlyStopping(\n",
        "        monitor='val_loss',\n",
        "        patience=3,\n",
        "        restore_best_weights=True)\n",
        "]\n",
        "\n",
        "# Définition d'un checkpoint pour sauvegarder le meilleur modèle pendant l'entraînement\n",
        "model_checkpoint = [\n",
        "    ModelCheckpoint(\n",
        "        'best_model.h5',\n",
        "        save_best_only=True,\n",
        "        monitor='val_auc',\n",
        "        mode='max')]"
      ]
    },
    {
      "cell_type": "markdown",
      "metadata": {
        "id": "xaiGsvK6VK88"
      },
      "source": []
    },
    {
      "cell_type": "markdown",
      "metadata": {
        "id": "UgPuLWy_b_zS"
      },
      "source": [
        "**7\\. Entraînement du Modèle**\n",
        "-------------------------------------"
      ]
    },
    {
      "cell_type": "code",
      "execution_count": null,
      "metadata": {
        "colab": {
          "base_uri": "https://localhost:8080/"
        },
        "id": "XfoSqGqKfauS",
        "outputId": "01f40bf0-512b-409b-b869-728cd6cc50db"
      },
      "outputs": [
        {
          "output_type": "stream",
          "name": "stdout",
          "text": [
            "Epoch 1/10\n",
            "\u001b[1m131/131\u001b[0m \u001b[32m━━━━━━━━━━━━━━━━━━━━\u001b[0m\u001b[37m\u001b[0m \u001b[1m0s\u001b[0m 231ms/step - accuracy: 0.6398 - auc: 0.6483 - loss: 13.5718"
          ]
        },
        {
          "output_type": "stream",
          "name": "stderr",
          "text": [
            "WARNING:absl:You are saving your model as an HDF5 file via `model.save()` or `keras.saving.save_model(model)`. This file format is considered legacy. We recommend using instead the native Keras format, e.g. `model.save('my_model.keras')` or `keras.saving.save_model(model, 'my_model.keras')`. \n"
          ]
        },
        {
          "output_type": "stream",
          "name": "stdout",
          "text": [
            "\b\b\b\b\b\b\b\b\b\b\b\b\b\b\b\b\b\b\b\b\b\b\b\b\b\b\b\b\b\b\b\b\b\b\b\b\b\b\b\b\b\b\b\b\b\b\b\b\b\b\b\b\b\b\b\b\b\b\b\b\b\b\b\b\b\b\b\b\b\b\b\b\b\b\b\b\b\b\b\b\b\b\b\b\b\b\b\b\b\b\b\r\u001b[1m131/131\u001b[0m \u001b[32m━━━━━━━━━━━━━━━━━━━━\u001b[0m\u001b[37m\u001b[0m \u001b[1m218s\u001b[0m 874ms/step - accuracy: 0.6405 - auc: 0.6490 - loss: 13.5010 - val_accuracy: 0.7598 - val_auc: 0.6977 - val_loss: 1.0880\n",
            "Epoch 2/10\n",
            "\u001b[1m131/131\u001b[0m \u001b[32m━━━━━━━━━━━━━━━━━━━━\u001b[0m\u001b[37m\u001b[0m \u001b[1m0s\u001b[0m 228ms/step - accuracy: 0.8142 - auc: 0.9015 - loss: 0.6014"
          ]
        },
        {
          "output_type": "stream",
          "name": "stderr",
          "text": [
            "WARNING:absl:You are saving your model as an HDF5 file via `model.save()` or `keras.saving.save_model(model)`. This file format is considered legacy. We recommend using instead the native Keras format, e.g. `model.save('my_model.keras')` or `keras.saving.save_model(model, 'my_model.keras')`. \n"
          ]
        },
        {
          "output_type": "stream",
          "name": "stdout",
          "text": [
            "\b\b\b\b\b\b\b\b\b\b\b\b\b\b\b\b\b\b\b\b\b\b\b\b\b\b\b\b\b\b\b\b\b\b\b\b\b\b\b\b\b\b\b\b\b\b\b\b\b\b\b\b\b\b\b\b\b\b\b\b\b\b\b\b\b\b\b\b\b\b\b\b\b\b\b\b\b\b\b\b\b\b\b\b\b\b\b\b\b\b\r\u001b[1m131/131\u001b[0m \u001b[32m━━━━━━━━━━━━━━━━━━━━\u001b[0m\u001b[37m\u001b[0m \u001b[1m84s\u001b[0m 254ms/step - accuracy: 0.8142 - auc: 0.9015 - loss: 0.6013 - val_accuracy: 0.7598 - val_auc: 0.8420 - val_loss: 0.9771\n",
            "Epoch 3/10\n",
            "\u001b[1m131/131\u001b[0m \u001b[32m━━━━━━━━━━━━━━━━━━━━\u001b[0m\u001b[37m\u001b[0m \u001b[1m0s\u001b[0m 225ms/step - accuracy: 0.8667 - auc: 0.9440 - loss: 0.4595"
          ]
        },
        {
          "output_type": "stream",
          "name": "stderr",
          "text": [
            "WARNING:absl:You are saving your model as an HDF5 file via `model.save()` or `keras.saving.save_model(model)`. This file format is considered legacy. We recommend using instead the native Keras format, e.g. `model.save('my_model.keras')` or `keras.saving.save_model(model, 'my_model.keras')`. \n"
          ]
        },
        {
          "output_type": "stream",
          "name": "stdout",
          "text": [
            "\b\b\b\b\b\b\b\b\b\b\b\b\b\b\b\b\b\b\b\b\b\b\b\b\b\b\b\b\b\b\b\b\b\b\b\b\b\b\b\b\b\b\b\b\b\b\b\b\b\b\b\b\b\b\b\b\b\b\b\b\b\b\b\b\b\b\b\b\b\b\b\b\b\b\b\b\b\b\b\b\b\b\b\b\b\b\b\b\b\b\r\u001b[1m131/131\u001b[0m \u001b[32m━━━━━━━━━━━━━━━━━━━━\u001b[0m\u001b[37m\u001b[0m \u001b[1m32s\u001b[0m 241ms/step - accuracy: 0.8667 - auc: 0.9440 - loss: 0.4596 - val_accuracy: 0.7608 - val_auc: 0.9006 - val_loss: 0.9047\n",
            "Epoch 4/10\n",
            "\u001b[1m131/131\u001b[0m \u001b[32m━━━━━━━━━━━━━━━━━━━━\u001b[0m\u001b[37m\u001b[0m \u001b[1m40s\u001b[0m 235ms/step - accuracy: 0.8723 - auc: 0.9534 - loss: 0.4193 - val_accuracy: 0.7627 - val_auc: 0.8523 - val_loss: 0.9224\n",
            "Epoch 5/10\n",
            "\u001b[1m131/131\u001b[0m \u001b[32m━━━━━━━━━━━━━━━━━━━━\u001b[0m\u001b[37m\u001b[0m \u001b[1m0s\u001b[0m 228ms/step - accuracy: 0.8914 - auc: 0.9594 - loss: 0.3916"
          ]
        },
        {
          "output_type": "stream",
          "name": "stderr",
          "text": [
            "WARNING:absl:You are saving your model as an HDF5 file via `model.save()` or `keras.saving.save_model(model)`. This file format is considered legacy. We recommend using instead the native Keras format, e.g. `model.save('my_model.keras')` or `keras.saving.save_model(model, 'my_model.keras')`. \n"
          ]
        },
        {
          "output_type": "stream",
          "name": "stdout",
          "text": [
            "\b\b\b\b\b\b\b\b\b\b\b\b\b\b\b\b\b\b\b\b\b\b\b\b\b\b\b\b\b\b\b\b\b\b\b\b\b\b\b\b\b\b\b\b\b\b\b\b\b\b\b\b\b\b\b\b\b\b\b\b\b\b\b\b\b\b\b\b\b\b\b\b\b\b\b\b\b\b\b\b\b\b\b\b\b\b\b\b\b\b\r\u001b[1m131/131\u001b[0m \u001b[32m━━━━━━━━━━━━━━━━━━━━\u001b[0m\u001b[37m\u001b[0m \u001b[1m32s\u001b[0m 246ms/step - accuracy: 0.8915 - auc: 0.9594 - loss: 0.3916 - val_accuracy: 0.9321 - val_auc: 0.9832 - val_loss: 0.1878\n",
            "Epoch 6/10\n",
            "\u001b[1m131/131\u001b[0m \u001b[32m━━━━━━━━━━━━━━━━━━━━\u001b[0m\u001b[37m\u001b[0m \u001b[1m0s\u001b[0m 225ms/step - accuracy: 0.9123 - auc: 0.9672 - loss: 0.3510"
          ]
        },
        {
          "output_type": "stream",
          "name": "stderr",
          "text": [
            "WARNING:absl:You are saving your model as an HDF5 file via `model.save()` or `keras.saving.save_model(model)`. This file format is considered legacy. We recommend using instead the native Keras format, e.g. `model.save('my_model.keras')` or `keras.saving.save_model(model, 'my_model.keras')`. \n"
          ]
        },
        {
          "output_type": "stream",
          "name": "stdout",
          "text": [
            "\b\b\b\b\b\b\b\b\b\b\b\b\b\b\b\b\b\b\b\b\b\b\b\b\b\b\b\b\b\b\b\b\b\b\b\b\b\b\b\b\b\b\b\b\b\b\b\b\b\b\b\b\b\b\b\b\b\b\b\b\b\b\b\b\b\b\b\b\b\b\b\b\b\b\b\b\b\b\b\b\b\b\b\b\b\b\b\b\b\b\r\u001b[1m131/131\u001b[0m \u001b[32m━━━━━━━━━━━━━━━━━━━━\u001b[0m\u001b[37m\u001b[0m \u001b[1m41s\u001b[0m 247ms/step - accuracy: 0.9122 - auc: 0.9671 - loss: 0.3513 - val_accuracy: 0.8976 - val_auc: 0.9839 - val_loss: 0.2538\n",
            "Epoch 7/10\n",
            "\u001b[1m131/131\u001b[0m \u001b[32m━━━━━━━━━━━━━━━━━━━━\u001b[0m\u001b[37m\u001b[0m \u001b[1m0s\u001b[0m 227ms/step - accuracy: 0.9052 - auc: 0.9676 - loss: 0.3500"
          ]
        },
        {
          "output_type": "stream",
          "name": "stderr",
          "text": [
            "WARNING:absl:You are saving your model as an HDF5 file via `model.save()` or `keras.saving.save_model(model)`. This file format is considered legacy. We recommend using instead the native Keras format, e.g. `model.save('my_model.keras')` or `keras.saving.save_model(model, 'my_model.keras')`. \n"
          ]
        },
        {
          "output_type": "stream",
          "name": "stdout",
          "text": [
            "\b\b\b\b\b\b\b\b\b\b\b\b\b\b\b\b\b\b\b\b\b\b\b\b\b\b\b\b\b\b\b\b\b\b\b\b\b\b\b\b\b\b\b\b\b\b\b\b\b\b\b\b\b\b\b\b\b\b\b\b\b\b\b\b\b\b\b\b\b\b\b\b\b\b\b\b\b\b\b\b\b\b\b\b\b\b\b\b\b\b\r\u001b[1m131/131\u001b[0m \u001b[32m━━━━━━━━━━━━━━━━━━━━\u001b[0m\u001b[37m\u001b[0m \u001b[1m40s\u001b[0m 243ms/step - accuracy: 0.9052 - auc: 0.9675 - loss: 0.3501 - val_accuracy: 0.9388 - val_auc: 0.9841 - val_loss: 0.1939\n",
            "Epoch 8/10\n",
            "\u001b[1m131/131\u001b[0m \u001b[32m━━━━━━━━━━━━━━━━━━━━\u001b[0m\u001b[37m\u001b[0m \u001b[1m41s\u001b[0m 245ms/step - accuracy: 0.9150 - auc: 0.9628 - loss: 0.3807 - val_accuracy: 0.2785 - val_auc: 0.8974 - val_loss: 2.4304\n"
          ]
        }
      ],
      "source": [
        "# Lancement de l'entraînement du modèle\n",
        "history = model.fit(\n",
        "    train_data, # Jeu de données d'entraînement\n",
        "    validation_data=val_data, # Jeu de validation pour évaluer la performance après chaque epoch\n",
        "    epochs=10, # Nombre maximal d'epochs (boucles d'entraînement sur l'ensemble des données)\n",
        "    class_weight=class_weight, # Prise en compte du déséquilibre des classes avec les poids calculés\n",
        "    callbacks=[early_stopping, model_checkpoint] # Appels pour stopper tôt et sauvegarder automatiquement le meilleur modèle\n",
        ")"
      ]
    },
    {
      "cell_type": "markdown",
      "metadata": {
        "id": "_64v0d0ucHR7"
      },
      "source": [
        "**8\\. Entraînement du Modèle**\n",
        "-------------------------------------"
      ]
    },
    {
      "cell_type": "code",
      "execution_count": null,
      "metadata": {
        "colab": {
          "base_uri": "https://localhost:8080/"
        },
        "id": "F801TR_Ynapz",
        "outputId": "906b56cf-da17-4df9-9e41-d50d13d31d7a"
      },
      "outputs": [
        {
          "output_type": "stream",
          "name": "stdout",
          "text": [
            "\u001b[1m20/20\u001b[0m \u001b[32m━━━━━━━━━━━━━━━━━━━━\u001b[0m\u001b[37m\u001b[0m \u001b[1m127s\u001b[0m 6s/step - accuracy: 0.8631 - auc: 0.6369 - loss: 0.3528\n",
            "Test Accuracy: 0.8958\n",
            "Test AUC: 0.9519\n"
          ]
        }
      ],
      "source": [
        "# Évaluation du modèle sur les données de test\n",
        "# 'model.evaluate' retourne une liste avec la perte (loss) et les métriques spécifiées (accuracy, AUC dans ce cas)\n",
        "test_results = model.evaluate(test_data)\n",
        "\n",
        "# Affichage de la précision (accuracy) sur le jeu de test\n",
        "print(f\"Test Accuracy: {test_results[1]:.4f}\")\n",
        "\n",
        "# Affichage de l'AUC (Area Under Curve) sur le jeu de test\n",
        "print(f\"Test AUC: {test_results[2]:.4f}\")"
      ]
    },
    {
      "cell_type": "markdown",
      "metadata": {
        "id": "cCt8rtpUcMju"
      },
      "source": [
        "**9\\. Visualisation de la courbe ROC**\n",
        "-------------------------------------\n",
        "\n",
        "La courbe ROC permet de visualiser la performance d'un modèle de classification binaire à différents seuils de décision.\n",
        "\n",
        "L'AUC est une métrique utile, qui résume la performance globale du modèle. Une AUC proche de 1 signifie que le modèle est excellent à distinguer les classes positives et négatives.\n",
        "\n"
      ]
    },
    {
      "cell_type": "code",
      "source": [
        "from sklearn.metrics import roc_curve, auc\n",
        "\n",
        "# Prédictions sur le jeu de test\n",
        "y_pred_prob = model.predict(test_data)  # Probabilités de la classe \"PNEUMONIA\" (positive)\n",
        "\n",
        "# Récupération des vraies étiquettes\n",
        "y_true = np.concatenate([labels.numpy() for images, labels in test_data])\n",
        "\n",
        "# Courbe ROC\n",
        "fpr, tpr, thresholds = roc_curve(y_true, y_pred_prob)\n",
        "roc_auc = auc(fpr, tpr)\n",
        "\n",
        "# Tracé de la courbe\n",
        "plt.figure(figsize=(8, 6))\n",
        "plt.plot(fpr, tpr, color='darkorange', lw=2, label=f'Courbe ROC (AUC = {roc_auc:.2f})')\n",
        "plt.plot([0, 1], [0, 1], color='navy', lw=1, linestyle='--')\n",
        "plt.xlabel('Taux de faux positifs (FPR)')\n",
        "plt.ylabel('Taux de vrais positifs (TPR)')\n",
        "plt.title('Courbe ROC - Modèle CNN')\n",
        "plt.legend(loc=\"lower right\")\n",
        "plt.grid(True)\n",
        "\n",
        "plt.show()\n"
      ],
      "metadata": {
        "colab": {
          "base_uri": "https://localhost:8080/",
          "height": 581
        },
        "id": "DsLmQQW3oRam",
        "outputId": "07b33607-fc5b-48e2-e42c-f4939eb78238"
      },
      "execution_count": null,
      "outputs": [
        {
          "output_type": "stream",
          "name": "stdout",
          "text": [
            "\u001b[1m20/20\u001b[0m \u001b[32m━━━━━━━━━━━━━━━━━━━━\u001b[0m\u001b[37m\u001b[0m \u001b[1m1s\u001b[0m 38ms/step\n"
          ]
        },
        {
          "output_type": "display_data",
          "data": {
            "text/plain": [
              "<Figure size 800x600 with 1 Axes>"
            ],
            "image/png": "[encoded data removed]"
          },
          "metadata": {}
        }
      ]
    },
    {
      "cell_type": "markdown",
      "metadata": {
        "id": "sVrYOm9PcRb8"
      },
      "source": [
        "**10\\. Visualisation de la matrice de confusion**\n",
        "-------------------------------------\n",
        "\n",
        "Ce que la matrice de confusion montre :\n",
        "\n",
        "**Vrais Positifs (TP)** : Les cas où le modèle a correctement prédit la classe positive (par exemple, prédire \"pneumonie\" quand il y en a effectivement une).\n",
        "\n",
        "**Faux Positifs (FP)** : Les cas où le modèle a prédit la classe positive alors qu'il s'agissait de la classe négative (par exemple, prédire \"pneumonie\" quand il n'y en a pas).\n",
        "\n",
        "**Vrais Négatifs (TN)** : Les cas où le modèle a correctement prédit la classe négative (pas de pneumonie et prédiction correcte).\n",
        "\n",
        "**Faux Négatifs (FN)** : Les cas où le modèle a prédit la classe négative alors qu'il y avait effectivement une classe positive (par exemple, ne pas prédire \"pneumonie\" quand il y en avait une)."
      ]
    },
    {
      "cell_type": "code",
      "execution_count": null,
      "metadata": {
        "colab": {
          "base_uri": "https://localhost:8080/",
          "height": 466
        },
        "id": "eVSJEzJTaFQg",
        "outputId": "8707b50f-9c81-45ff-9a99-c9816378c609"
      },
      "outputs": [
        {
          "output_type": "stream",
          "name": "stdout",
          "text": [
            "\u001b[1m20/20\u001b[0m \u001b[32m━━━━━━━━━━━━━━━━━━━━\u001b[0m\u001b[37m\u001b[0m \u001b[1m2s\u001b[0m 69ms/step\n"
          ]
        },
        {
          "output_type": "display_data",
          "data": {
            "text/plain": [
              "<Figure size 640x480 with 2 Axes>"
            ],
            "image/png": "[encoded data removed]"
          },
          "metadata": {}
        }
      ],
      "source": [
        "from sklearn.metrics import confusion_matrix\n",
        "import seaborn as sns\n",
        "\n",
        "y_true = np.concatenate([y for x, y in test_data])\n",
        "y_pred = (model.predict(test_data) > 0.5).astype(int)\n",
        "\n",
        "cm = confusion_matrix(y_true, y_pred)\n",
        "sns.heatmap(cm, annot=True, fmt='d', cmap='Blues',\n",
        "            xticklabels=class_names, yticklabels=class_names)\n",
        "plt.xlabel('Predicted')\n",
        "plt.ylabel('True')\n",
        "plt.show()"
      ]
    },
    {
      "cell_type": "code",
      "execution_count": null,
      "metadata": {
        "colab": {
          "base_uri": "https://localhost:8080/"
        },
        "id": "sVugaGimMB0s",
        "outputId": "cc531712-a6e1-4b0e-a2e9-0319f4890745"
      },
      "outputs": [
        {
          "output_type": "stream",
          "name": "stderr",
          "text": [
            "WARNING:absl:You are saving your model as an HDF5 file via `model.save()` or `keras.saving.save_model(model)`. This file format is considered legacy. We recommend using instead the native Keras format, e.g. `model.save('my_model.keras')` or `keras.saving.save_model(model, 'my_model.keras')`. \n"
          ]
        },
        {
          "output_type": "stream",
          "name": "stdout",
          "text": [
            "Modèle sauvegardé au format .h5 dans : /content/drive/My Drive/Zoidberg/zoidberg_model_v2.h5\n"
          ]
        }
      ],
      "source": [
        "model_path = os.path.join(save_dir, \"zoidberg_model_v2.h5\")\n",
        "model.save(model_path)\n",
        "print(f\"Modèle sauvegardé au format .h5 dans : {model_path}\")"
      ]
    }
  ],
  "metadata": {
    "colab": {
      "provenance": [],
      "gpuType": "T4"
    },
    "kernelspec": {
      "display_name": "Python 3",
      "name": "python3"
    },
    "language_info": {
      "name": "python"
    },
    "accelerator": "GPU"
  },
  "nbformat": 4,
  "nbformat_minor": 0
}